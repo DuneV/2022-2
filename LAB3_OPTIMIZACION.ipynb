{
 "cells": [
  {
   "cell_type": "markdown",
   "metadata": {},
   "source": [
    "# Laboratorio Optimización No. 3"
   ]
  },
  {
   "cell_type": "markdown",
   "metadata": {},
   "source": [
    "- Importación de paquetes"
   ]
  },
  {
   "cell_type": "code",
   "execution_count": 29,
   "metadata": {},
   "outputs": [],
   "source": [
    "import numpy as np\n",
    "import matplotlib.pyplot as plt\n",
    "import time\n",
    "import sympy as sym\n",
    "from scipy.optimize import linprog, minimize"
   ]
  },
  {
   "cell_type": "markdown",
   "metadata": {},
   "source": [
    "- Primer punto"
   ]
  },
  {
   "cell_type": "markdown",
   "metadata": {},
   "source": [
    "### Variables de desición:  \n",
    "> Competen la cantidad de productos de tamaño Grande, Mediano y Pequeño para cada planta, teniendo en conocimiento que existen tres plantas:  \n",
    "$$140(x_{1} + x_{2} + x_{3}) + 120(y_{1} + y_{2} +y_{3}) + 100(z_{1} + z_{2} + z_{3}) = P(x_{n},y_{n},z_{n})$$\n",
    "$$x_{n} \\rightarrow Grande \\therefore n \\in [1,2,3]$$\n",
    "$$y_{n} \\rightarrow Mediano \\therefore n \\in [1,2,3]$$\n",
    "$$z_{n} \\rightarrow Pequeño \\therefore n \\in [1,2,3]$$\n",
    "> Donde el indice n indica la planta para esto se tienen las siguientes restricciónes:  \n",
    "- S.A\n",
    "$$x_{1} + y_{1} + z_{1} \\leq 750$$\n",
    "$$x_{2} + y_{2} + z_{2} \\leq 900 $$\n",
    "$$x_{3} + y_{3} + z_{3} \\leq 450 $$\n",
    "> Para la cantidad maxima de producción diaria de cada planta.\n",
    "> Otra restricción:\n",
    "- S.A\n",
    "$$20x_{1} + 15y_{1} + 12z_{1} \\leq 13000$$\n",
    "$$20x_{2} + 15y_{2} + 12z_{2} \\leq 12000 $$\n",
    "$$20x_{3} + 15y_{3} + 12z_{3} \\leq 5000 $$\n",
    "> Para la cantidad maxima de pies cuadrados disponibles para cada planta.\n",
    "> Otra restricción:\n",
    "- S.A\n",
    "$$x_{1} + x_{2} + x_{3} \\leq 900$$\n",
    "$$y_{1} + y_{2} + y_{3} \\leq 1200 $$\n",
    "$$z_{1} + z_{2} + z_{3} \\leq 750 $$\n",
    "> Para el pronostico de venta para los elementos grandes, medianos y pequeños, respectivamente.\n",
    "> La última restricción es que ninguna producción puede ser negativa\n",
    "$$x_{n} \\geq 0 \\therefore n \\in [1,2,3]$$\n",
    "$$y_{n} \\geq 0 \\therefore n \\in [1,2,3]$$\n",
    "$$z_{n} \\geq 0 \\therefore n \\in [1,2,3]$$"
   ]
  },
  {
   "cell_type": "code",
   "execution_count": 26,
   "metadata": {},
   "outputs": [
    {
     "data": {
      "text/plain": [
       "     con: array([], dtype=float64)\n",
       "     fun: -236000.0\n",
       " message: 'Optimization terminated successfully.'\n",
       "     nit: 8\n",
       "   slack: array([  0.        ,  33.33333333,  33.33333333,   0.        ,\n",
       "         0.        ,   0.        , 550.        , 266.66666667,\n",
       "         0.        ])\n",
       "  status: 0\n",
       " success: True\n",
       "       x: array([350.        ,   0.        ,   0.        , 400.        ,\n",
       "       533.33333333,   0.        ,   0.        , 333.33333333,\n",
       "       416.66666667])"
      ]
     },
     "execution_count": 26,
     "metadata": {},
     "output_type": "execute_result"
    }
   ],
   "source": [
    "# Así pues se realiza el siguiente\n",
    "# procedimiento de optimización \n",
    "# para el sistema y función de utilidad.\n",
    "\n",
    "# P -> función de costo\n",
    "# coeficientes de P \n",
    "\n",
    "c_ex = np.array([140, 140, 140, 120, 120, 120, 100, 100, 100]) # x_1 x_2 x_3; y_1 y_2 y_3; z_1 z_2 z_3\n",
    "\n",
    "# constantes de inecuaciones x_1 x_2 x_3; y_1 y_2 y_3; z_1 z_2 z_3 = 9 variables de control\n",
    "\n",
    "A = np.array([[1, 0, 0, 1, 0, 0, 1, 0, 0],\n",
    "                [0, 1, 0, 0, 1, 0, 0, 1, 0],\n",
    "                [0, 0, 1, 0, 0, 1, 0, 0, 1],\n",
    "                [20, 0, 0, 15, 0, 0, 12, 0, 0],\n",
    "                [0, 20, 0, 0, 15, 0, 0, 12, 0],\n",
    "                [0, 0, 20, 0, 0, 15, 0, 0, 12],\n",
    "                [1, 1, 1, 0, 0, 0, 0, 0, 0],\n",
    "                [0, 0, 0, 1, 1, 1, 0, 0, 0],\n",
    "                [0, 0, 0, 0, 0, 0, 1, 1, 1]])\n",
    "\n",
    "b = np.array([750, 900, 450, 13000, 12000, 5000, 900, 1200, 750])\n",
    "# Bounds on decision variables\n",
    "bounds_ex = [(  0,    None)]*9\n",
    "\n",
    "# Solve the problem\n",
    "res_ex2 = linprog(-c_ex, A_ub=A, b_ub=b, bounds=bounds_ex, method='revised simplex')\n",
    "res_ex2"
   ]
  },
  {
   "cell_type": "markdown",
   "metadata": {},
   "source": [
    "- Segundo punto"
   ]
  },
  {
   "cell_type": "markdown",
   "metadata": {},
   "source": [
    "> Se desea obtimizar L, tal que L sea:\n",
    "$$d_{T}(L_{A}, L_{B}, L_{C}, P) = d_{A,P} + d_{B,P} + d_{C,P}$$\n",
    "> Donde d representa la distancia entre dos puntos y la funcion de costo representa el total, donde la formúla de distancia es:\n",
    "$$ d_{p_{1},p_{2}} =\\sqrt{(x_{2}-x_{1})^{2}+(y_{2}-y_{1})^{2}} \\in \\real^{2}$$\n",
    "- S.A\n",
    "$$d_{A,P} \\geq 0$$\n",
    "$$d_{B,P} \\geq 0$$\n",
    "$$d_{C,P} \\geq 0$$\n",
    "> Linealización de polinomio\n",
    "$$L(x,y) = f(a,b) + (x-a)f_{x}(a,b) + (y-b)f_{y}(a,b)$$\n",
    "> El punto seleccionado para linealizar es el punto más cercano a los dos puntos en donde se encuentra el optimo:\n",
    "##### PA (0,0)\n",
    "$$f(x,y) = \\sqrt{(x)^{2}+(y)^{2}} $$\n",
    "$$ P(a=40,b=30)$$\n",
    "$$L_{1} = f(40,30) + (x-40)\\frac{40}{\\sqrt{40^{2}+30^{2}}} + (y-30)\\frac{30}{\\sqrt{30^{2}+40^{3}}}$$\n",
    "##### PB (40,50)\n",
    "$$f(x,y) = \\sqrt{(x-40)^{2}+(y-50)^{2}}$$\n",
    "$$ P(a=40,b=30)$$\n",
    "$$L_{2} = f(40,30) + (y-30)\\frac{50-30}{\\sqrt{40^{2}-80*40+2500+50^{2}-60*50}}$$\n",
    "##### PC (90,30)\n",
    "$$f(x,y) = \\sqrt{(x-90)^{2}+(y-30)^{2}} $$\n",
    "$$ P(a=40,b=30)$$\n",
    "$$L_{3} = f(40,30) + (x-40)\\frac{90-40}{\\sqrt{90^{2}-80*90+2500+30^{2}-60*30}}$$"
   ]
  },
  {
   "cell_type": "code",
   "execution_count": 32,
   "metadata": {},
   "outputs": [],
   "source": [
    "# definir funcion optima\n",
    "# \n",
    "x = sym.Symbol('x') \n",
    "y = sym.Symbol('y')\n",
    "L1 = np.sqrt(40**2 + 30**2) + (x-40)*(40/np.sqrt(40**2 + 30**2)) + (y-30)*(30/np.sqrt(40**2 + 30**2))\n",
    "L2 = np.sqrt((30-50)**2) + (y-30)*(50-30)/(np.sqrt(40**2 - 80*40 + 2500 + 50**2 - 60*30))\n",
    "L3 = np.sqrt((40-90)**2) + (x-40)*(90-40)/(np.sqrt(90**2 - 80*90 + 2500 + 30**2 - 60*30))\n",
    "fun = np.array([0.8, 0.6])\n",
    "# minx = minimize()"
   ]
  },
  {
   "cell_type": "markdown",
   "metadata": {},
   "source": [
    "- Tercer punto"
   ]
  },
  {
   "cell_type": "code",
   "execution_count": null,
   "metadata": {},
   "outputs": [],
   "source": []
  }
 ],
 "metadata": {
  "kernelspec": {
   "display_name": "Python 3.8.10 64-bit",
   "language": "python",
   "name": "python3"
  },
  "language_info": {
   "codemirror_mode": {
    "name": "ipython",
    "version": 3
   },
   "file_extension": ".py",
   "mimetype": "text/x-python",
   "name": "python",
   "nbconvert_exporter": "python",
   "pygments_lexer": "ipython3",
   "version": "3.8.10"
  },
  "orig_nbformat": 4,
  "vscode": {
   "interpreter": {
    "hash": "8d19b764d49e1dcc271e9a882564bf910ed3916f9785cce1f7e4046018fe4dea"
   }
  }
 },
 "nbformat": 4,
 "nbformat_minor": 2
}
