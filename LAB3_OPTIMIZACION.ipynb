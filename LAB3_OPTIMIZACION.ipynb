{
 "cells": [
  {
   "cell_type": "markdown",
   "metadata": {},
   "source": [
    "# Laboratorio Optimización No. 3"
   ]
  },
  {
   "cell_type": "markdown",
   "metadata": {},
   "source": [
    "- Importación de paquetes"
   ]
  },
  {
   "cell_type": "code",
   "execution_count": 2,
   "metadata": {},
   "outputs": [],
   "source": [
    "import numpy as np\n",
    "import matplotlib.pyplot as plt\n",
    "from mpl_toolkits.mplot3d.axes3d import Axes3D\n",
    "import time\n",
    "from scipy.optimize import linprog"
   ]
  },
  {
   "cell_type": "markdown",
   "metadata": {},
   "source": [
    "- Primer punto"
   ]
  },
  {
   "cell_type": "markdown",
   "metadata": {},
   "source": [
    "### Variables de desición:  \n",
    "> Competen la cantidad de productos de tamaño Grande, Mediano y Pequeño para cada planta, teniendo en conocimiento que existen tres plantas:  \n",
    "$$140(x_{1} + x_{2} + x_{3}) + 120(y_{1} + y_{2} +y_{3}) + 100(z_{1} + z_{2} + z_{3}) = P(x_{n},y_{n},z_{n})$$\n",
    "$$x_{n} \\rightarrow Grande \\therefore n \\in [1,2,3]$$\n",
    "$$y_{n} \\rightarrow Mediano \\therefore n \\in [1,2,3]$$\n",
    "$$z_{n} \\rightarrow Pequeño \\therefore n \\in [1,2,3]$$\n",
    "> Donde el indice n indica la planta para esto se tienen las siguientes restricciónes:  \n",
    "- S.A\n",
    "$$x_{1} + y_{1} + z_{1} = 750$$\n",
    "$$x_{2} + y_{2} + z_{2} = 900 $$\n",
    "$$x_{3} + y_{3} + z_{3} = 450 $$\n",
    "> Para la cantidad maxima de producción diaria de cada planta.\n",
    "> Otra restricción:\n",
    "- S.A\n",
    "$$20x_{1} + 15y_{1} + 12z_{1} \\leq 13000$$\n",
    "$$20x_{2} + 15y_{2} + 12z_{2} \\leq 12000 $$\n",
    "$$20x_{3} + 15y_{3} + 12z_{3} \\leq 5000 $$\n",
    "> Para la cantidad maxima de pies cuadrados disponibles para cada planta.\n",
    "> Otra restricción:\n",
    "- S.A\n",
    "$$x_{1} + x_{2} + x_{3} \\leq 900$$\n",
    "$$y_{1} + y_{2} + y_{3} \\leq 1200 $$\n",
    "$$z_{1} + z_{2} + z_{3} \\leq 750 $$\n",
    "> Para el pronostico de venta para los elementos grandes, medianos y pequeños, respectivamente.\n",
    "> La última restricción es que ninguna producción puede ser negativa\n",
    "$$x_{n} \\geq 0 \\therefore n \\in [1,2,3]$$\n",
    "$$y_{n} \\geq 0 \\therefore n \\in [1,2,3]$$\n",
    "$$z_{n} \\geq 0 \\therefore n \\in [1,2,3]$$"
   ]
  },
  {
   "cell_type": "code",
   "execution_count": 9,
   "metadata": {},
   "outputs": [
    {
     "name": "stderr",
     "output_type": "stream",
     "text": [
      "C:\\Users\\danie\\AppData\\Local\\Temp\\ipykernel_9996\\1236233207.py:32: OptimizeWarning: A_eq does not appear to be of full row rank. To improve performance, check the problem formulation for redundant equality constraints.\n",
      "  res_ex2 = linprog(c_ex, A_eq=A_ex, b_eq=b_ex,\n"
     ]
    },
    {
     "data": {
      "text/plain": [
       "     con: array([  750., 13000.,   900.,   900., 12000.,  1200.,   450.,  5000.,\n",
       "         750.])\n",
       "     fun: 0.0\n",
       " message: 'There is a linear combination of rows of A_eq that results in zero, suggesting a redundant constraint. However the same linear combination of b_eq is nonzero, suggesting that the constraints conflict and the problem is infeasible.'\n",
       "     nit: 0\n",
       "   slack: array([], dtype=float64)\n",
       "  status: 2\n",
       " success: False\n",
       "       x: array([0., 0., 0., 0., 0., 0., 0., 0., 0.])"
      ]
     },
     "execution_count": 9,
     "metadata": {},
     "output_type": "execute_result"
    }
   ],
   "source": [
    "# Así pues se realiza el siguiente\n",
    "# procedimiento de optimización \n",
    "# para el sistema y función de utilidad.\n",
    "\n",
    "# P -> función de costo\n",
    "# coeficientes de P \n",
    "c_ex = np.array([140, 140, 140, 120, 120, 120, \n",
    "    100, 100, 100])\n",
    "# constantes de inecuaciones\n",
    "A_ex = np.array([[1, 1, 1, 0, 0, 0, 0, 0, 0],\n",
    "                [20, 15, 12, 0, 0, 0, 0, 0, 0],\n",
    "                [1, 0, 0, 1, 0, 0, 1, 0, 0],\n",
    "                [0, 0, 0, 1, 1, 1, 0, 0, 0],\n",
    "                [0, 0, 0, 20, 15, 12, 0, 0, 0],\n",
    "                [0, 1, 0, 0, 1, 0, 0, 1, 0],\n",
    "                [0, 0, 0, 0, 0, 0, 1, 1, 1],\n",
    "                [0, 0, 0, 0, 0, 0, 20, 15, 12],\n",
    "                [0, 0, 1, 0, 0, 1, 0, 0, 1]])\n",
    "\n",
    "b_ex = np.array([750, 13000, 900, 900, 12000, 1200, 450, 5000, 750])\n",
    "# Bounds on decision variables\n",
    "bounds_ex = [(  0,    None),\n",
    "             (  0,    None),\n",
    "             (  0,    None),\n",
    "             (  0,    None),\n",
    "             (  0,    None),\n",
    "             (  0,    None),\n",
    "             (  0,    None),\n",
    "             (  0,    None),\n",
    "             (  0,    None),]\n",
    "             # Solve the problem\n",
    "res_ex2 = linprog(-c_ex, A_eq=A_ex, b_eq=b_ex,\n",
    "                  bounds=bounds_ex, method='revised simplex')\n",
    "res_ex2"
   ]
  },
  {
   "cell_type": "markdown",
   "metadata": {},
   "source": [
    "- Segundo punto"
   ]
  },
  {
   "cell_type": "markdown",
   "metadata": {},
   "source": [
    "> Se desea obtimizar L, tal que L sea:\n",
    "$$d_{T}(L_{A}, L_{B}, L_{C}, P) = d_{A,P} + d_{B,P} + d_{C,P}$$\n",
    "> Donde d representa la distancia entre dos puntos y la funcion de costo representa el total, donde la formúla de distancia es:\n",
    "$$ d_{p_{1},p_{2}} =\\sqrt{(x_{2}-x_{1})^{2}+(y_{2}-y_{1})^{2}} \\in \\real^{2}$$\n",
    "- S.A\n",
    "$$d_{A,P} \\geq 0$$\n",
    "$$d_{B,P} \\geq 0$$\n",
    "$$d_{C,P} \\geq 0$$"
   ]
  },
  {
   "cell_type": "code",
   "execution_count": null,
   "metadata": {},
   "outputs": [],
   "source": []
  },
  {
   "cell_type": "markdown",
   "metadata": {},
   "source": [
    "- Tercer punto"
   ]
  },
  {
   "cell_type": "code",
   "execution_count": null,
   "metadata": {},
   "outputs": [],
   "source": []
  }
 ],
 "metadata": {
  "kernelspec": {
   "display_name": "Python 3.8.10 64-bit",
   "language": "python",
   "name": "python3"
  },
  "language_info": {
   "codemirror_mode": {
    "name": "ipython",
    "version": 3
   },
   "file_extension": ".py",
   "mimetype": "text/x-python",
   "name": "python",
   "nbconvert_exporter": "python",
   "pygments_lexer": "ipython3",
   "version": "3.8.10"
  },
  "orig_nbformat": 4,
  "vscode": {
   "interpreter": {
    "hash": "8d19b764d49e1dcc271e9a882564bf910ed3916f9785cce1f7e4046018fe4dea"
   }
  }
 },
 "nbformat": 4,
 "nbformat_minor": 2
}
